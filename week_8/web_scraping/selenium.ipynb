{
 "cells": [
  {
   "cell_type": "markdown",
   "metadata": {},
   "source": [
    "<div style=\"float:right; padding-top: 15px; padding-right: 15px\">\n",
    "    <div>\n",
    "        <a href=\"https://whiteboxml.com\">\n",
    "            <img src=\"https://whiteboxml.com/static/img/logo/black_bg_white.svg\" width=\"250\">\n",
    "        </a>\n",
    "    </div>\n",
    "</div>"
   ]
  },
  {
   "cell_type": "markdown",
   "metadata": {},
   "source": [
    "# Selenium"
   ]
  },
  {
   "cell_type": "markdown",
   "metadata": {},
   "source": [
    "_\"Selenium is the most amazing way to automate a web browser\"_ by Pedro Muñoz"
   ]
  },
  {
   "cell_type": "markdown",
   "metadata": {},
   "source": [
    "https://selenium-python.readthedocs.io/"
   ]
  },
  {
   "cell_type": "markdown",
   "metadata": {},
   "source": [
    "## 1. Installation"
   ]
  },
  {
   "cell_type": "code",
   "execution_count": 2,
   "metadata": {},
   "outputs": [
    {
     "name": "stdout",
     "output_type": "stream",
     "text": [
      "Requirement already satisfied: selenium in /home/ubuntu/miniconda3/envs/ironhack_env/lib/python3.7/site-packages (3.141.0)\n",
      "Requirement already satisfied: urllib3 in /home/ubuntu/miniconda3/envs/ironhack_env/lib/python3.7/site-packages (from selenium) (1.25.9)\n"
     ]
    }
   ],
   "source": [
    "!pip install selenium"
   ]
  },
  {
   "cell_type": "markdown",
   "metadata": {},
   "source": [
    "## 2. Driver"
   ]
  },
  {
   "cell_type": "markdown",
   "metadata": {},
   "source": [
    "https://github.com/mozilla/geckodriver/releases"
   ]
  },
  {
   "cell_type": "code",
   "execution_count": 1,
   "metadata": {},
   "outputs": [
    {
     "data": {
      "text/plain": [
       "'/home/ubuntu/miniconda3/envs/ironhack_env/bin:/home/ubuntu/miniconda3/condabin:/usr/local/sbin:/usr/local/bin:/usr/sbin:/usr/bin:/sbin:/bin:/usr/games:/usr/local/games:/snap/bin:/home/ubuntu/Nextcloud/dev/teaching/ironhack/dataptmad-0420-classes/week_8/web_scraping/drivers'"
      ]
     },
     "execution_count": 1,
     "metadata": {},
     "output_type": "execute_result"
    }
   ],
   "source": [
    "# it is necessary to add the driver to the PATH variable\n",
    "import os\n",
    "\n",
    "os.environ['PATH'] = f'{os.environ[\"PATH\"]}:{os.getcwd()}/drivers'\n",
    "    \n",
    "os.environ['PATH']"
   ]
  },
  {
   "cell_type": "markdown",
   "metadata": {},
   "source": [
    "## 3. Run"
   ]
  },
  {
   "cell_type": "code",
   "execution_count": 3,
   "metadata": {},
   "outputs": [],
   "source": [
    "from selenium import webdriver\n",
    "\n",
    "driver = webdriver.Firefox()\n",
    "driver.get('https://datatau.net')"
   ]
  },
  {
   "cell_type": "code",
   "execution_count": 4,
   "metadata": {},
   "outputs": [],
   "source": [
    "# it is a good idea to close the browser to avoid RAM run out\n",
    "driver.close()"
   ]
  },
  {
   "cell_type": "markdown",
   "metadata": {},
   "source": [
    "## 4. Example"
   ]
  },
  {
   "cell_type": "markdown",
   "metadata": {},
   "source": [
    "How to get Renfe trains from a selenium bot"
   ]
  },
  {
   "cell_type": "code",
   "execution_count": 5,
   "metadata": {},
   "outputs": [],
   "source": [
    "ORIGIN = 'MADRID'\n",
    "DESTINATION = 'PONFERRADA'\n",
    "\n",
    "DAYS_TILL_TRIP = 5"
   ]
  },
  {
   "cell_type": "code",
   "execution_count": 6,
   "metadata": {},
   "outputs": [],
   "source": [
    "from selenium import webdriver\n",
    "from selenium.webdriver.common.keys import Keys\n",
    "\n",
    "driver = webdriver.Firefox()\n",
    "driver.get('https://www.renfe.com/')"
   ]
  },
  {
   "cell_type": "code",
   "execution_count": 8,
   "metadata": {},
   "outputs": [],
   "source": [
    "# close cookies\n",
    "cookies_button = driver.find_element_by_id('onetrust-accept-btn-handler')\n",
    "\n",
    "cookies_button.click()"
   ]
  },
  {
   "cell_type": "code",
   "execution_count": null,
   "metadata": {},
   "outputs": [],
   "source": [
    "driver.find_element_"
   ]
  },
  {
   "cell_type": "code",
   "execution_count": 16,
   "metadata": {},
   "outputs": [],
   "source": [
    "# set origin\n",
    "origin_input = driver.find_element_by_css_selector('#origin > div:nth-child(1) > div:nth-child(2) > input:nth-child(1)')\n",
    "\n",
    "origin_input.send_keys(ORIGIN)\n",
    "origin_input.send_keys(Keys.ARROW_DOWN)\n",
    "origin_input.send_keys(Keys.ENTER)\n",
    "\n",
    "# origin_input = driver.find_element_by_xpath('/html/body/div[1]/div/div/div[1]/div/div/div/div/div/div/rf-header/rf-header-top/div[2]/rf-search/div/div[1]/rf-awesomplete[1]/div/div[1]/input')\n",
    "\n",
    "# origin_input.send_keys(ORIGIN)\n",
    "# origin_input.send_keys(Keys.ARROW_DOWN)\n",
    "# origin_input.send_keys(Keys.ENTER)"
   ]
  },
  {
   "cell_type": "code",
   "execution_count": 26,
   "metadata": {},
   "outputs": [],
   "source": [
    "# set destination\n",
    "destination_input = driver.find_element_by_css_selector('#destination > div:nth-child(1) > div:nth-child(2) > input:nth-child(1)')\n",
    "\n",
    "destination_input.send_keys(DESTINATION)\n",
    "destination_input.send_keys(Keys.ARROW_DOWN)\n",
    "destination_input.send_keys(Keys.ENTER)"
   ]
  },
  {
   "cell_type": "code",
   "execution_count": 18,
   "metadata": {},
   "outputs": [],
   "source": [
    "# open round trip menu\n",
    "route_button = driver.find_element_by_class_name('menu-button')\n",
    "\n",
    "route_button.click()"
   ]
  },
  {
   "cell_type": "code",
   "execution_count": 19,
   "metadata": {},
   "outputs": [],
   "source": [
    "# select one-way trip\n",
    "driver.find_element_by_css_selector('#tripType > div > div > ul > li:nth-child(1) > span').click()"
   ]
  },
  {
   "cell_type": "code",
   "execution_count": 20,
   "metadata": {},
   "outputs": [],
   "source": [
    "# open start date menu\n",
    "driver.find_element_by_class_name('rf-search__dates').click()"
   ]
  },
  {
   "cell_type": "code",
   "execution_count": 21,
   "metadata": {},
   "outputs": [],
   "source": [
    "# increase DAYS_TILL_TRIP days today's date\n",
    "for i in range(DAYS_TILL_TRIP):\n",
    "    driver.find_element_by_css_selector('i.icon-arrow_right:nth-child(1)').click()"
   ]
  },
  {
   "cell_type": "code",
   "execution_count": 22,
   "metadata": {},
   "outputs": [],
   "source": [
    "# select date\n",
    "driver.find_element_by_class_name('lightpick__apply-action-sub').click()"
   ]
  },
  {
   "cell_type": "code",
   "execution_count": 23,
   "metadata": {},
   "outputs": [],
   "source": [
    "# query trips\n",
    "driver.find_element_by_class_name('mdc-button__touch').click()"
   ]
  },
  {
   "cell_type": "code",
   "execution_count": 24,
   "metadata": {},
   "outputs": [
    {
     "data": {
      "text/plain": [
       "'20.25 00.31 4 h. 6 min. AVE-MD 60,20 € Turista con enlace Flexible'"
      ]
     },
     "execution_count": 24,
     "metadata": {},
     "output_type": "execute_result"
    }
   ],
   "source": [
    "# parse trips\n",
    "trips = driver.find_element_by_id('listaTrenesTBodyIda')\n",
    "\n",
    "trips.text"
   ]
  },
  {
   "cell_type": "code",
   "execution_count": 25,
   "metadata": {},
   "outputs": [
    {
     "data": {
      "text/plain": [
       "{'at_check': 'true',\n",
       " 'AMCVS_3C9D27E253DB254D0A490D4E%40AdobeOrg': '1',\n",
       " 'mbox': 'session#735062c927504f61be15060ada00f573#1593253762|PC#735062c927504f61be15060ada00f573.37_0#1656496704',\n",
       " 'JSESSIONID': '00007iIovIASoIw2UwvObWT-32gl7za60-jSzK0S4cq36D-xYA3OSaPrmwAUhvgvV3oJunATd9o_Y-VO0u9h4C2ix1N4rbtOjMxhPe8SZ3GjPP26FNYTD3t0vndVNjqFC_51:18hk2s4qb',\n",
       " 'url_logout': '/vol/homeCustomers.do',\n",
       " 'tipoUsuario': 'N',\n",
       " 'dtCookie': 'A8C2128FA9DB3B814610C66335768FEC|VkxQKy0rVmVudGErSW50ZXJuZXQrJTVCUFJPJTVEfDE',\n",
       " 'f5avraaaaaaaaaaaaaaaa_session_': 'GHEKGCPHJLJOEKJBIOGPGNFCEIEJHBJPKDJKNMKOJOCFEHFMALBGPLCGKBBLPGFLANODJOBJGBHFNBAHFLIACOILJCEOMHEKNJDAELMHCFECAKKOJHCNCLACHACPKEIO',\n",
       " 'dtSa': '-',\n",
       " 'dtLatC': '1',\n",
       " 'DWRSESSIONID': 'UYnix4EVa7BpxIMpeEtZSZ6nRbn',\n",
       " 'AMCV_3C9D27E253DB254D0A490D4E%40AdobeOrg': '2096510701%7CMCIDTS%7C18441%7CMCMID%7C48810878927815928010815920687369273863%7CMCAAMLH-1593859171%7C6%7CMCAAMB-1593859171%7C6G1ynYcLPuiQxYZrsz_pkqfLG9yMXBpb2zX5dvJdYQJzPXImdj0y%7CMCOPTOUT-1593261571s%7CNONE%7CMCSYNCSOP%7C411-18448%7CvVersion%7C2.0.0%7CMCAID%7CNONE',\n",
       " 's_nr': '1593254371359-New',\n",
       " 'gpv_p6': 'CEX%3ALista%20de%20Trenes',\n",
       " 's_cc': 'true',\n",
       " 'TS018d34ad': '01bfcb7b1b4b63ed9e76811bb433347621cd64b4294781c1dc234050fcd90cb2f6c8253f28308d736c2e37e15c037cda6868dfabc7e52bd05316c9c599b384d7f0ffe01921415b6fc9978c8e20f00b21fc71729a5c57af615d98cb0a237382545b305dd16e4db942ad109cb08a407d382e5920137cc9b1cde9709d96aef4b01e95564387336c8188d7f8ca7093828cd4ae01a89c83',\n",
       " 'QueueITAccepted-SDFrts345E-V3_vollive01': 'EventId%3Dvollive01%26QueueId%3D668ec5b0-d91a-461f-8d16-a94ac40ef968%26RedirectType%3Dsafetynet%26IssueTime%3D1593254372%26Hash%3D530c25437ecdffed4b4afd776bfafbbf5cc72eb2eca0b9962017e4a3f0b04845',\n",
       " 'dtPC': '-',\n",
       " 'TSbaeb093c027': '08a16edb10ab200032c53561e2254871f751eac192a58b854a9e9f2ba38bf543b202aecd6aa94e9b0802e98cc9113000b14773aa6cfaccfeaa63eb6cf7434cfa5f333a01298010d324debb1c5daebf97745bf4f1d216b715fa4f01f6bd9f7f98'}"
      ]
     },
     "execution_count": 25,
     "metadata": {},
     "output_type": "execute_result"
    }
   ],
   "source": [
    "# get cookies\n",
    "cookies_raw = driver.get_cookies()\n",
    "\n",
    "cookies = {}\n",
    "for cookie in cookies_raw:\n",
    "    cookies[cookie['name']] = cookie['value']\n",
    "\n",
    "if not 'DWRSESSIONID' in cookies:\n",
    "    raise KeyError('DWRSESSIONID not in cookies file!')\n",
    "\n",
    "cookies"
   ]
  },
  {
   "cell_type": "code",
   "execution_count": 24,
   "metadata": {},
   "outputs": [],
   "source": [
    "# close browser\n",
    "driver.close()"
   ]
  },
  {
   "cell_type": "markdown",
   "metadata": {},
   "source": [
    "<div style=\"padding-top: 25px; float: right\">\n",
    "    <div>    \n",
    "        <i>&nbsp;&nbsp;© Copyright by</i>\n",
    "    </div>\n",
    "    <div>\n",
    "        <a href=\"https://whiteboxml.com\">\n",
    "            <img src=\"https://whiteboxml.com/static/img/logo/black_bg_white.svg\" width=\"125\">\n",
    "        </a>\n",
    "    </div>\n",
    "</div>"
   ]
  }
 ],
 "metadata": {
  "kernelspec": {
   "display_name": "Python [conda env:ironhack_env]",
   "language": "python",
   "name": "conda-env-ironhack_env-py"
  },
  "language_info": {
   "codemirror_mode": {
    "name": "ipython",
    "version": 3
   },
   "file_extension": ".py",
   "mimetype": "text/x-python",
   "name": "python",
   "nbconvert_exporter": "python",
   "pygments_lexer": "ipython3",
   "version": "3.7.7"
  }
 },
 "nbformat": 4,
 "nbformat_minor": 4
}
