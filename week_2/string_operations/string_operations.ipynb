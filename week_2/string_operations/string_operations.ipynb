{
 "cells": [
  {
   "cell_type": "markdown",
   "metadata": {},
   "source": [
    "# String Operations"
   ]
  },
  {
   "cell_type": "markdown",
   "metadata": {},
   "source": [
    "## Common operations"
   ]
  },
  {
   "cell_type": "code",
   "execution_count": 1,
   "metadata": {},
   "outputs": [
    {
     "name": "stdout",
     "output_type": "stream",
     "text": [
      "HelloWorld\n"
     ]
    }
   ],
   "source": [
    "# operator overload\n",
    "print('Hello' + 'World')"
   ]
  },
  {
   "cell_type": "code",
   "execution_count": 4,
   "metadata": {},
   "outputs": [
    {
     "name": "stdout",
     "output_type": "stream",
     "text": [
      "Hello Hello Hello Hello Hello Hello Hello Hello \n"
     ]
    }
   ],
   "source": [
    "print('Hello ' * 8)"
   ]
  },
  {
   "cell_type": "code",
   "execution_count": 13,
   "metadata": {},
   "outputs": [
    {
     "name": "stdout",
     "output_type": "stream",
     "text": [
      "Hello a beautiful dog\n",
      "Hello beautiful dog why Hello\n",
      "Hello beautiful dog why Hello\n",
      "Hello beautiful dog\n"
     ]
    }
   ],
   "source": [
    "a = 'Hello'\n",
    "b = 'dog'\n",
    "\n",
    "# forget about this\n",
    "print(a + ' a ' + 'beautiful' + ' ' + b)\n",
    "print('{} beautiful {} why {}'.format(a, b, a))\n",
    "print('{0} beautiful {1} why {0}'.format(a, b))\n",
    "\n",
    "# this is cream -> string interpolation\n",
    "print(f'{a} beautiful {b}')"
   ]
  },
  {
   "cell_type": "code",
   "execution_count": 16,
   "metadata": {},
   "outputs": [
    {
     "name": "stdout",
     "output_type": "stream",
     "text": [
      "['Happy', 'Puppies', 'Happy']\n",
      "Happy Puppies Happy\n",
      "HappyhelloPuppieshelloHappy\n"
     ]
    }
   ],
   "source": [
    "x = 'Happy'\n",
    "y = 'Puppies'\n",
    "z = [x,y,x]\n",
    "\n",
    "print(z)\n",
    "print(' '.join(z))\n",
    "print('hello'.join(z))"
   ]
  },
  {
   "cell_type": "code",
   "execution_count": 24,
   "metadata": {},
   "outputs": [
    {
     "name": "stdout",
     "output_type": "stream",
     "text": [
      "Happy Puppies Happy\n",
      "Happy Puppies Happy\n"
     ]
    }
   ],
   "source": [
    "mystring = ''\n",
    "for i in z:\n",
    "    mystring += i + ' '\n",
    "    \n",
    "print(mystring[:-1])\n",
    "print(mystring.strip())"
   ]
  },
  {
   "cell_type": "code",
   "execution_count": 25,
   "metadata": {},
   "outputs": [
    {
     "name": "stdout",
     "output_type": "stream",
     "text": [
      "1\n",
      "10\n"
     ]
    }
   ],
   "source": [
    "print(len(['automobile']))\n",
    "print(len('automobile'))"
   ]
  },
  {
   "cell_type": "markdown",
   "metadata": {},
   "source": [
    "### Slicing"
   ]
  },
  {
   "cell_type": "code",
   "execution_count": 32,
   "metadata": {},
   "outputs": [
    {
     "data": {
      "text/plain": [
       "[1, 2, 3, 4, 5, 6, 7, 8, 9]"
      ]
     },
     "execution_count": 32,
     "metadata": {},
     "output_type": "execute_result"
    }
   ],
   "source": [
    "list(range(1,10))"
   ]
  },
  {
   "cell_type": "code",
   "execution_count": 34,
   "metadata": {},
   "outputs": [
    {
     "data": {
      "text/plain": [
       "[1, 5, 9]"
      ]
     },
     "execution_count": 34,
     "metadata": {},
     "output_type": "execute_result"
    }
   ],
   "source": [
    "list(range(1,10,4))"
   ]
  },
  {
   "cell_type": "code",
   "execution_count": 57,
   "metadata": {},
   "outputs": [
    {
     "name": "stdout",
     "output_type": "stream",
     "text": [
      "a\n",
      "o\n",
      "e\n",
      "b\n",
      "auto\n",
      "auto\n",
      "mobile\n",
      "ao\n",
      "ie\n",
      "elibomotua\n",
      "elibomotua\n",
      "automobile\n"
     ]
    }
   ],
   "source": [
    "word = 'automobile'\n",
    "\n",
    "print(word[0])\n",
    "print(word[5])\n",
    "print(word[-1])\n",
    "print(word[-4])\n",
    "print(word[0:4])\n",
    "print(word[:4])\n",
    "print(word[4:])\n",
    "\n",
    "# i:f:s -> i first index, f last index, s step\n",
    "print(word[0:4:3])\n",
    "print(word[-3:len(word):2])\n",
    "\n",
    "## TODO\n",
    "# turn the string word using slicing\n",
    "# expected result: elibomotua\n",
    "print(word[len(word)::-1])\n",
    "print(word[::-1])\n",
    "print(word[:])"
   ]
  },
  {
   "cell_type": "code",
   "execution_count": 64,
   "metadata": {},
   "outputs": [
    {
     "name": "stdout",
     "output_type": "stream",
     "text": [
      "['They', 'ate', 'the', 'mystery', 'meat.', 'It', 'tasted', 'like', 'chicken.']\n",
      "['They', 'ate', 'the', 'mystery', 'meat.', 'It', 'tasted', 'like', 'chicken.']\n",
      "['They ate the mystery meat', ' It tasted like chicken', '']\n",
      "['They ate the ', 'ystery ', 'eat. It tasted like chicken.']\n",
      "['They ate the mystery ', '. It tasted like chicken.']\n"
     ]
    }
   ],
   "source": [
    "a = 'They ate the mystery meat. It tasted like chicken.'\n",
    "\n",
    "# check the splitter is not included\n",
    "print(a.split())\n",
    "print(a.split(' '))\n",
    "print(a.split('.'))\n",
    "print(a.split('m'))\n",
    "print(a.split('meat'))"
   ]
  },
  {
   "cell_type": "code",
   "execution_count": 66,
   "metadata": {},
   "outputs": [
    {
     "data": {
      "text/plain": [
       "['T',\n",
       " 'h',\n",
       " 'e',\n",
       " 'y',\n",
       " ' ',\n",
       " 'a',\n",
       " 't',\n",
       " 'e',\n",
       " ' ',\n",
       " 't',\n",
       " 'h',\n",
       " 'e',\n",
       " ' ',\n",
       " 'm',\n",
       " 'y',\n",
       " 's',\n",
       " 't',\n",
       " 'e',\n",
       " 'r',\n",
       " 'y',\n",
       " ' ',\n",
       " 'm',\n",
       " 'e',\n",
       " 'a',\n",
       " 't',\n",
       " '.',\n",
       " ' ',\n",
       " 'I',\n",
       " 't',\n",
       " ' ',\n",
       " 't',\n",
       " 'a',\n",
       " 's',\n",
       " 't',\n",
       " 'e',\n",
       " 'd',\n",
       " ' ',\n",
       " 'l',\n",
       " 'i',\n",
       " 'k',\n",
       " 'e',\n",
       " ' ',\n",
       " 'c',\n",
       " 'h',\n",
       " 'i',\n",
       " 'c',\n",
       " 'k',\n",
       " 'e',\n",
       " 'n',\n",
       " '.']"
      ]
     },
     "execution_count": 66,
     "metadata": {},
     "output_type": "execute_result"
    }
   ],
   "source": [
    "# list comprehension\n",
    "[char for char in a]"
   ]
  },
  {
   "cell_type": "code",
   "execution_count": 65,
   "metadata": {},
   "outputs": [
    {
     "data": {
      "text/plain": [
       "['T',\n",
       " 'h',\n",
       " 'e',\n",
       " 'y',\n",
       " ' ',\n",
       " 'a',\n",
       " 't',\n",
       " 'e',\n",
       " ' ',\n",
       " 't',\n",
       " 'h',\n",
       " 'e',\n",
       " ' ',\n",
       " 'm',\n",
       " 'y',\n",
       " 's',\n",
       " 't',\n",
       " 'e',\n",
       " 'r',\n",
       " 'y',\n",
       " ' ',\n",
       " 'm',\n",
       " 'e',\n",
       " 'a',\n",
       " 't',\n",
       " '.',\n",
       " ' ',\n",
       " 'I',\n",
       " 't',\n",
       " ' ',\n",
       " 't',\n",
       " 'a',\n",
       " 's',\n",
       " 't',\n",
       " 'e',\n",
       " 'd',\n",
       " ' ',\n",
       " 'l',\n",
       " 'i',\n",
       " 'k',\n",
       " 'e',\n",
       " ' ',\n",
       " 'c',\n",
       " 'h',\n",
       " 'i',\n",
       " 'c',\n",
       " 'k',\n",
       " 'e',\n",
       " 'n',\n",
       " '.']"
      ]
     },
     "execution_count": 65,
     "metadata": {},
     "output_type": "execute_result"
    }
   ],
   "source": [
    "my_list = []\n",
    "\n",
    "for char in a:\n",
    "    my_list.append(char)\n",
    "    \n",
    "my_list"
   ]
  },
  {
   "cell_type": "code",
   "execution_count": 69,
   "metadata": {},
   "outputs": [
    {
     "name": "stdout",
     "output_type": "stream",
     "text": [
      "True\n",
      "True\n",
      "False\n",
      "True\n",
      "True\n",
      "False\n"
     ]
    }
   ],
   "source": [
    "b = 'There is no business like show business.'\n",
    "\n",
    "print(b.startswith('T'))\n",
    "print(b.startswith('There'))\n",
    "# python is case sensitive\n",
    "print(b.startswith('there'))\n",
    "\n",
    "print(b.endswith('.'))\n",
    "print(b.endswith('business.'))\n",
    "print(b.endswith('Business.'))"
   ]
  },
  {
   "cell_type": "code",
   "execution_count": 71,
   "metadata": {},
   "outputs": [
    {
     "name": "stdout",
     "output_type": "stream",
     "text": [
      "True\n",
      "True\n",
      "False\n"
     ]
    }
   ],
   "source": [
    "print('like' in b)\n",
    "print('business' in b)\n",
    "print('Business' in b)"
   ]
  },
  {
   "cell_type": "code",
   "execution_count": 78,
   "metadata": {},
   "outputs": [
    {
     "name": "stdout",
     "output_type": "stream",
     "text": [
      "she had a marvelous assortment of puppets. but hello\n",
      "SHE HAD A MARVELOUS ASSORTMENT OF PUPPETS. BUT HELLO\n",
      "She had a marvelous assortment of puppets. but hello\n",
      "She Had A Marvelous Assortment Of Puppets. But Hello\n"
     ]
    }
   ],
   "source": [
    "c = 'shE HaD a maRveLoUs aSsoRtmeNt of PUPPETS. but helLo'\n",
    "\n",
    "print(c.lower())\n",
    "print(c.upper())\n",
    "print(c.capitalize())\n",
    "print(c.title())"
   ]
  },
  {
   "cell_type": "code",
   "execution_count": 84,
   "metadata": {},
   "outputs": [
    {
     "name": "stdout",
     "output_type": "stream",
     "text": [
      "I have a tendency to leave       trailing spaces.\n",
      "I have a tendency to leave       trailing spaces.      \n",
      "   I have a tendency to leave       trailing spaces.\n",
      "49\n",
      "55\n",
      "52\n"
     ]
    }
   ],
   "source": [
    "d = '   I have a tendency to leave       trailing spaces.      '\n",
    "\n",
    "print(d.strip())\n",
    "print(d.lstrip())\n",
    "print(d.rstrip())\n",
    "\n",
    "print(len(d.strip()))\n",
    "print(len(d.lstrip()))\n",
    "print(len(d.rstrip()))"
   ]
  },
  {
   "cell_type": "code",
   "execution_count": 82,
   "metadata": {},
   "outputs": [
    {
     "name": "stdout",
     "output_type": "stream",
     "text": [
      "I thought       the movie    was horrible!   \n",
      "I thought       the movie    was just OK!   \n",
      "I thlaksjdflñkjasñdlught       the mlaksjdflñkjasñdlvie    was wlaksjdflñkjasñdlnderful!   \n",
      "Ithoughtthemoviewaswonderful!\n"
     ]
    }
   ],
   "source": [
    "e = 'I thought       the movie    was wonderful!   '\n",
    "\n",
    "print(e.replace('wonderful', 'horrible'))\n",
    "print(e.replace('wonderful', 'just OK'))\n",
    "print(e.replace('o', 'laksjdflñkjasñdl'))\n",
    "print(e.replace(' ', ''))"
   ]
  },
  {
   "cell_type": "code",
   "execution_count": 96,
   "metadata": {},
   "outputs": [
    {
     "data": {
      "text/plain": [
       "'I thought       the movie    was horrible!   '"
      ]
     },
     "execution_count": 96,
     "metadata": {},
     "output_type": "execute_result"
    }
   ],
   "source": [
    "e = e.replace('wonderful', 'horrible')\n",
    "\n",
    "e"
   ]
  },
  {
   "cell_type": "code",
   "execution_count": 91,
   "metadata": {},
   "outputs": [
    {
     "data": {
      "text/plain": [
       "['I', 'thought', 'the', 'movie', 'was', 'wonderful!']"
      ]
     },
     "execution_count": 91,
     "metadata": {},
     "output_type": "execute_result"
    }
   ],
   "source": [
    "e.split()"
   ]
  },
  {
   "cell_type": "code",
   "execution_count": 94,
   "metadata": {},
   "outputs": [
    {
     "data": {
      "text/plain": [
       "'I thought the movie was wonderful!'"
      ]
     },
     "execution_count": 94,
     "metadata": {},
     "output_type": "execute_result"
    }
   ],
   "source": [
    "' '.join(e.split())"
   ]
  },
  {
   "cell_type": "markdown",
   "metadata": {},
   "source": [
    "## Regex Introduction"
   ]
  },
  {
   "cell_type": "markdown",
   "metadata": {},
   "source": [
    "Regular expressions allow us to perform different types of pattern matching on text in order to arrive at the result we want"
   ]
  },
  {
   "cell_type": "code",
   "execution_count": 97,
   "metadata": {},
   "outputs": [],
   "source": [
    "import re"
   ]
  },
  {
   "cell_type": "markdown",
   "metadata": {},
   "source": [
    "- search: Returns the first instance of an expression in a string\n",
    "- findall: Finds all instances of an expression in a string and returns them as a list\n",
    "- split: Splits a string based on a specified delimiter\n",
    "- sub: Substitutes a string/substring with another"
   ]
  },
  {
   "cell_type": "code",
   "execution_count": 111,
   "metadata": {},
   "outputs": [
    {
     "name": "stdout",
     "output_type": "stream",
     "text": [
      "['nei']\n"
     ]
    }
   ],
   "source": [
    "text = 'My neighbor, Mr Rogers, Has 35 dogs.'\n",
    "print(re.findall('nei', text))"
   ]
  },
  {
   "cell_type": "code",
   "execution_count": 108,
   "metadata": {},
   "outputs": [
    {
     "name": "stdout",
     "output_type": "stream",
     "text": [
      "<re.Match object; span=(35, 36), match='.'>\n"
     ]
    }
   ],
   "source": [
    "print(re.search('[.]', text))"
   ]
  },
  {
   "cell_type": "code",
   "execution_count": 100,
   "metadata": {},
   "outputs": [
    {
     "data": {
      "text/plain": [
       "36"
      ]
     },
     "execution_count": 100,
     "metadata": {},
     "output_type": "execute_result"
    }
   ],
   "source": [
    "len(text)"
   ]
  },
  {
   "cell_type": "code",
   "execution_count": 104,
   "metadata": {},
   "outputs": [
    {
     "data": {
      "text/plain": [
       "'.'"
      ]
     },
     "execution_count": 104,
     "metadata": {},
     "output_type": "execute_result"
    }
   ],
   "source": [
    "text[35:36]"
   ]
  },
  {
   "cell_type": "code",
   "execution_count": 103,
   "metadata": {},
   "outputs": [
    {
     "data": {
      "text/plain": [
       "'.'"
      ]
     },
     "execution_count": 103,
     "metadata": {},
     "output_type": "execute_result"
    }
   ],
   "source": [
    "text[-1]"
   ]
  },
  {
   "cell_type": "code",
   "execution_count": 116,
   "metadata": {},
   "outputs": [
    {
     "name": "stdout",
     "output_type": "stream",
     "text": [
      "<re.Match object; span=(2, 3), match=' '>\n"
     ]
    }
   ],
   "source": [
    "print(re.search('[nei ]', text))"
   ]
  },
  {
   "cell_type": "code",
   "execution_count": 115,
   "metadata": {},
   "outputs": [
    {
     "name": "stdout",
     "output_type": "stream",
     "text": [
      "[' ', 'n', 'e', 'i', ' ', ' ', 'e', ' ', ' ', ' ']\n"
     ]
    }
   ],
   "source": [
    "print(re.findall('[nei ]', text))"
   ]
  },
  {
   "cell_type": "code",
   "execution_count": null,
   "metadata": {},
   "outputs": [],
   "source": [
    "# use dir to search for methods or attributes\n",
    "print(dir(re.search('[mngbors]', text)))"
   ]
  },
  {
   "cell_type": "code",
   "execution_count": null,
   "metadata": {},
   "outputs": [],
   "source": [
    "print(re.search('[mngbors]', text).span())\n",
    "print(re.search('[mngbors]', text).start())"
   ]
  },
  {
   "cell_type": "code",
   "execution_count": null,
   "metadata": {},
   "outputs": [],
   "source": [
    "print(re.findall('[mngbors]', text))"
   ]
  },
  {
   "cell_type": "markdown",
   "metadata": {},
   "source": [
    "Patterns:\n",
    "\n",
    "- [a-z]: Any lowercase letter between a and z.\n",
    "- [A-Z]: Any uppercase letter between A and Z.\n",
    "- [0-9]: Any numeric character between 0 and 9."
   ]
  },
  {
   "cell_type": "code",
   "execution_count": null,
   "metadata": {},
   "outputs": [],
   "source": [
    "print(re.findall('[a-z]', text))"
   ]
  },
  {
   "cell_type": "code",
   "execution_count": null,
   "metadata": {},
   "outputs": [],
   "source": [
    "print(re.findall('[^a-z]', text))"
   ]
  },
  {
   "cell_type": "code",
   "execution_count": null,
   "metadata": {},
   "outputs": [],
   "source": [
    "print(re.findall('[a-zA-Z]', text))"
   ]
  },
  {
   "cell_type": "code",
   "execution_count": null,
   "metadata": {},
   "outputs": [],
   "source": [
    "print(re.findall('[a-zA-Z ]', text))"
   ]
  },
  {
   "cell_type": "markdown",
   "metadata": {},
   "source": [
    "Pattern shortcuts:\n",
    "\n",
    "- \\w: Any alphanumeric character.\n",
    "- \\W: Any non-alphanumeric character.\n",
    "- \\d: Any numeric character.\n",
    "- \\D: Any non-numeric character.\n",
    "- \\s: Any whitespace characters.\n",
    "- \\S: Any non-whitespace characters.\n",
    "- .: Any character except newline (\\n)."
   ]
  },
  {
   "cell_type": "code",
   "execution_count": null,
   "metadata": {},
   "outputs": [],
   "source": [
    "print(re.findall('[\\d]', text))"
   ]
  },
  {
   "cell_type": "code",
   "execution_count": null,
   "metadata": {},
   "outputs": [],
   "source": [
    "print(re.findall('[\\w]', text))"
   ]
  },
  {
   "cell_type": "code",
   "execution_count": null,
   "metadata": {},
   "outputs": [],
   "source": [
    "print(re.findall('[\\S]', text))"
   ]
  },
  {
   "cell_type": "code",
   "execution_count": null,
   "metadata": {},
   "outputs": [],
   "source": [
    "print(re.findall('.', text))"
   ]
  },
  {
   "cell_type": "code",
   "execution_count": null,
   "metadata": {},
   "outputs": [],
   "source": [
    "print(re.split(', ', text))"
   ]
  },
  {
   "cell_type": "code",
   "execution_count": null,
   "metadata": {},
   "outputs": [],
   "source": [
    "print(text.split('[0-9]'))\n",
    "print(re.split('[0-9]', text))\n",
    "print(re.split('[0-9]+', text))"
   ]
  },
  {
   "cell_type": "code",
   "execution_count": null,
   "metadata": {},
   "outputs": [],
   "source": [
    "print(re.sub('[0-9]', '100', text))\n",
    "print(re.sub('[0-9]{2}', '100', text))\n",
    "print(re.sub('[0-9]{3}', '100', text))\n",
    "print(re.sub('[0-9]+', '100', text))"
   ]
  },
  {
   "cell_type": "code",
   "execution_count": null,
   "metadata": {},
   "outputs": [],
   "source": []
  }
 ],
 "metadata": {
  "kernelspec": {
   "display_name": "Python [conda env:ironhack_env]",
   "language": "python",
   "name": "conda-env-ironhack_env-py"
  },
  "language_info": {
   "codemirror_mode": {
    "name": "ipython",
    "version": 3
   },
   "file_extension": ".py",
   "mimetype": "text/x-python",
   "name": "python",
   "nbconvert_exporter": "python",
   "pygments_lexer": "ipython3",
   "version": "3.7.7"
  }
 },
 "nbformat": 4,
 "nbformat_minor": 4
}
