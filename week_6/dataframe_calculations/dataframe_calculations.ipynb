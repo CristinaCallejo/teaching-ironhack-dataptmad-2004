{
 "cells": [
  {
   "cell_type": "markdown",
   "metadata": {},
   "source": [
    "<div style=\"float:right; padding-top: 15px; padding-right: 15px\">\n",
    "    <div>\n",
    "        <a href=\"https://whiteboxml.com\">\n",
    "            <img src=\"https://whiteboxml.com/static/img/logo/black_bg_white.svg\" width=\"250\">\n",
    "        </a>\n",
    "    </div>\n",
    "</div>"
   ]
  },
  {
   "cell_type": "markdown",
   "metadata": {},
   "source": [
    "# dataframe calculations"
   ]
  },
  {
   "cell_type": "markdown",
   "metadata": {},
   "source": [
    "## 1. introduction"
   ]
  },
  {
   "cell_type": "markdown",
   "metadata": {},
   "source": [
    "* calculations with pandas are 'easy'\n",
    "* calculations are usually fast depending on your machine and size of dataset"
   ]
  },
  {
   "cell_type": "markdown",
   "metadata": {},
   "source": [
    "## 2. data loading"
   ]
  },
  {
   "cell_type": "markdown",
   "metadata": {},
   "source": [
    "As animals dataset link is not provided, let's use a 'huge' dataset from Renfe trips..."
   ]
  },
  {
   "cell_type": "markdown",
   "metadata": {},
   "source": [
    "https://www.kaggle.com/thegurusteam/spanish-high-speed-rail-system-ticket-pricing/data"
   ]
  },
  {
   "cell_type": "code",
   "execution_count": 4,
   "metadata": {},
   "outputs": [],
   "source": [
    "# import pandas as pd\n",
    "import numpy as np\n",
    "import os\n",
    "\n",
    "import pandas as pd\n",
    "\n",
    "# os.environ['MODIN_OUT_OF_CORE'] = 'true'\n",
    "# import modin.pandas as pd"
   ]
  },
  {
   "cell_type": "code",
   "execution_count": 5,
   "metadata": {},
   "outputs": [],
   "source": [
    "renfe = pd.read_csv('./data/spanish-high-speed-rail-system-ticket-pricing.zip')"
   ]
  },
  {
   "cell_type": "code",
   "execution_count": 6,
   "metadata": {},
   "outputs": [
    {
     "name": "stdout",
     "output_type": "stream",
     "text": [
      "<class 'pandas.core.frame.DataFrame'>\n",
      "RangeIndex: 7671354 entries, 0 to 7671353\n",
      "Data columns (total 9 columns):\n",
      " #   Column       Dtype  \n",
      "---  ------       -----  \n",
      " 0   insert_date  object \n",
      " 1   origin       object \n",
      " 2   destination  object \n",
      " 3   start_date   object \n",
      " 4   end_date     object \n",
      " 5   train_type   object \n",
      " 6   price        float64\n",
      " 7   train_class  object \n",
      " 8   fare         object \n",
      "dtypes: float64(1), object(8)\n",
      "memory usage: 4.0 GB\n"
     ]
    }
   ],
   "source": [
    "renfe.info(memory_usage='deep')"
   ]
  },
  {
   "cell_type": "markdown",
   "metadata": {},
   "source": [
    "## 3. calculations"
   ]
  },
  {
   "cell_type": "markdown",
   "metadata": {},
   "source": [
    "### combining columns"
   ]
  },
  {
   "cell_type": "markdown",
   "metadata": {},
   "source": [
    "with strings..."
   ]
  },
  {
   "cell_type": "code",
   "execution_count": 7,
   "metadata": {},
   "outputs": [],
   "source": [
    "renfe['destination_origin'] = renfe['origin'] + '_' + renfe['destination']"
   ]
  },
  {
   "cell_type": "code",
   "execution_count": 8,
   "metadata": {},
   "outputs": [
    {
     "data": {
      "text/plain": [
       "0          MADRID_BARCELONA\n",
       "1          MADRID_BARCELONA\n",
       "2          MADRID_BARCELONA\n",
       "3          MADRID_BARCELONA\n",
       "4          MADRID_BARCELONA\n",
       "                 ...       \n",
       "7671349     VALENCIA_MADRID\n",
       "7671350     VALENCIA_MADRID\n",
       "7671351     VALENCIA_MADRID\n",
       "7671352     VALENCIA_MADRID\n",
       "7671353     VALENCIA_MADRID\n",
       "Name: destination_origin, Length: 7671354, dtype: object"
      ]
     },
     "execution_count": 8,
     "metadata": {},
     "output_type": "execute_result"
    }
   ],
   "source": [
    "renfe['destination_origin']"
   ]
  },
  {
   "cell_type": "markdown",
   "metadata": {},
   "source": [
    "dates..."
   ]
  },
  {
   "cell_type": "code",
   "execution_count": 7,
   "metadata": {},
   "outputs": [
    {
     "name": "stderr",
     "output_type": "stream",
     "text": [
      "UserWarning: `Series.to_datetime` defaulting to pandas implementation.\n",
      "UserWarning: Distributing <class 'pandas.core.series.Series'> object. This may take some time.\n"
     ]
    }
   ],
   "source": [
    "renfe['start_date'] = pd.to_datetime(renfe['start_date'])\n",
    "renfe['end_date'] = pd.to_datetime(renfe['end_date'])"
   ]
  },
  {
   "cell_type": "markdown",
   "metadata": {},
   "source": [
    "converters? be careful..."
   ]
  },
  {
   "cell_type": "code",
   "execution_count": 8,
   "metadata": {},
   "outputs": [
    {
     "data": {
      "text/plain": [
       "0         2019-04-18 05:50:00\n",
       "1         2019-04-18 06:30:00\n",
       "2         2019-04-18 07:00:00\n",
       "3         2019-04-18 07:30:00\n",
       "4         2019-04-18 08:00:00\n",
       "                  ...        \n",
       "7671349   2019-07-20 14:50:00\n",
       "7671350   2019-07-20 14:10:00\n",
       "7671351   2019-07-20 12:40:00\n",
       "7671352   2019-07-20 10:40:00\n",
       "7671353   2019-07-20 09:40:00\n",
       "Name: start_date, Length: 7671354, dtype: datetime64[ns]"
      ]
     },
     "execution_count": 8,
     "metadata": {},
     "output_type": "execute_result"
    }
   ],
   "source": [
    "renfe['start_date']"
   ]
  },
  {
   "cell_type": "markdown",
   "metadata": {},
   "source": [
    "https://pandas.pydata.org/pandas-docs/stable/reference/api/pandas.read_csv.html"
   ]
  },
  {
   "cell_type": "code",
   "execution_count": 21,
   "metadata": {},
   "outputs": [],
   "source": [
    "renfe['trip_duration'] = renfe['end_date'] - renfe['start_date']"
   ]
  },
  {
   "cell_type": "code",
   "execution_count": 35,
   "metadata": {},
   "outputs": [
    {
     "data": {
      "text/plain": [
       "0          3.083333\n",
       "1          2.833333\n",
       "2          2.500000\n",
       "3          3.166667\n",
       "4          2.500000\n",
       "             ...   \n",
       "7671349    7.450000\n",
       "7671350    1.633333\n",
       "7671351    1.666667\n",
       "7671352    2.416667\n",
       "7671353    1.666667\n",
       "Name: trip_duration, Length: 7671354, dtype: float64"
      ]
     },
     "execution_count": 35,
     "metadata": {},
     "output_type": "execute_result"
    }
   ],
   "source": [
    "renfe['trip_duration'].dt.seconds / 3600"
   ]
  },
  {
   "cell_type": "markdown",
   "metadata": {},
   "source": [
    "## constants..."
   ]
  },
  {
   "cell_type": "code",
   "execution_count": 37,
   "metadata": {},
   "outputs": [
    {
     "data": {
      "text/plain": [
       "0         1 days 06:50:00\n",
       "1         1 days 04:20:00\n",
       "2         1 days 01:00:00\n",
       "3         1 days 07:40:00\n",
       "4         1 days 01:00:00\n",
       "                ...      \n",
       "7671349   3 days 02:30:00\n",
       "7671350   0 days 16:20:00\n",
       "7671351   0 days 16:40:00\n",
       "7671352   1 days 00:10:00\n",
       "7671353   0 days 16:40:00\n",
       "Name: trip_duration, Length: 7671354, dtype: timedelta64[ns]"
      ]
     },
     "execution_count": 37,
     "metadata": {},
     "output_type": "execute_result"
    }
   ],
   "source": [
    "renfe['trip_duration'] * 10"
   ]
  },
  {
   "cell_type": "markdown",
   "metadata": {},
   "source": [
    "### conditional calculations"
   ]
  },
  {
   "cell_type": "code",
   "execution_count": 40,
   "metadata": {},
   "outputs": [],
   "source": [
    "renfe['duration_description'] = np.where(renfe['trip_duration'].dt.seconds > 3600 * 2,\n",
    "                                         'long trip', \n",
    "                                         'short trip')"
   ]
  },
  {
   "cell_type": "code",
   "execution_count": 43,
   "metadata": {},
   "outputs": [],
   "source": [
    "renfe['trip_duration_h'] = renfe['trip_duration'].dt.seconds / 3600"
   ]
  },
  {
   "cell_type": "code",
   "execution_count": 48,
   "metadata": {},
   "outputs": [
    {
     "data": {
      "text/plain": [
       "0          36.016667\n",
       "1          39.116667\n",
       "2          54.625000\n",
       "3          46.833333\n",
       "4          45.725000\n",
       "             ...    \n",
       "7671349    17.900000\n",
       "7671350    17.641667\n",
       "7671351    23.483333\n",
       "7671352     9.058333\n",
       "7671353    23.483333\n",
       "Length: 7671354, dtype: float64"
      ]
     },
     "execution_count": 48,
     "metadata": {},
     "output_type": "execute_result"
    }
   ],
   "source": [
    "renfe[['trip_duration_h', 'price']].mean(axis=1)"
   ]
  },
  {
   "cell_type": "markdown",
   "metadata": {},
   "source": [
    "It may take too long..."
   ]
  },
  {
   "cell_type": "markdown",
   "metadata": {},
   "source": [
    "## 4. using pandas 'out of core' with modin"
   ]
  },
  {
   "cell_type": "code",
   "execution_count": null,
   "metadata": {},
   "outputs": [],
   "source": [
    "!pip install modin[ray] psutil"
   ]
  },
  {
   "cell_type": "markdown",
   "metadata": {},
   "source": [
    "https://modin.readthedocs.io/en/latest/UsingPandasonRay/index.html"
   ]
  },
  {
   "cell_type": "markdown",
   "metadata": {},
   "source": [
    "<div style=\"padding-top: 25px; float: right\">\n",
    "    <div>    \n",
    "        <i>&nbsp;&nbsp;© Copyright by</i>\n",
    "    </div>\n",
    "    <div>\n",
    "        <a href=\"https://whiteboxml.com\">\n",
    "            <img src=\"https://whiteboxml.com/static/img/logo/black_bg_white.svg\" width=\"125\">\n",
    "        </a>\n",
    "    </div>\n",
    "</div>"
   ]
  }
 ],
 "metadata": {
  "kernelspec": {
   "display_name": "Python [conda env:ml_env]",
   "language": "python",
   "name": "conda-env-ml_env-py"
  },
  "language_info": {
   "codemirror_mode": {
    "name": "ipython",
    "version": 3
   },
   "file_extension": ".py",
   "mimetype": "text/x-python",
   "name": "python",
   "nbconvert_exporter": "python",
   "pygments_lexer": "ipython3",
   "version": "3.7.7"
  }
 },
 "nbformat": 4,
 "nbformat_minor": 4
}
